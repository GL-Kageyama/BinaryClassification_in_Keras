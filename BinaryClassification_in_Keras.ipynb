{
 "cells": [
  {
   "cell_type": "code",
   "execution_count": 1,
   "metadata": {},
   "outputs": [],
   "source": [
    "# The API of tensorflow has been significantly changed in 2.0.\n",
    "# In this case, we used 2.1.0.\n",
    "# Please use the following command when you want to re-install tensorflow.\n",
    "# =====================================================\n",
    "# pip uninstall tensorflow -y\n",
    "# pip install tensorflow==2.1.0"
   ]
  },
  {
   "cell_type": "code",
   "execution_count": 2,
   "metadata": {},
   "outputs": [],
   "source": [
    "import numpy as np\n",
    "from numpy.random import multivariate_normal, permutation\n",
    "import pandas as pd \n",
    "from pandas import DataFrame\n",
    "import matplotlib.pyplot as plt\n",
    "import tensorflow as tf\n",
    "from tensorflow.keras import layers, models"
   ]
  },
  {
   "cell_type": "code",
   "execution_count": 3,
   "metadata": {},
   "outputs": [
    {
     "name": "stdout",
     "output_type": "stream",
     "text": [
      "TensorFlow :  2.1.0\n"
     ]
    }
   ],
   "source": [
    "print('TensorFlow : ', tf.__version__)"
   ]
  },
  {
   "cell_type": "code",
   "execution_count": 4,
   "metadata": {},
   "outputs": [],
   "source": [
    "np.random.seed(20200427)\n",
    "tf.random.set_seed(20200427)"
   ]
  },
  {
   "cell_type": "code",
   "execution_count": 5,
   "metadata": {},
   "outputs": [],
   "source": [
    "# Generates data with a correct label value of t=0\n",
    "n0, mu0, variance0 = 40, [10, 11], 40\n",
    "data0 = multivariate_normal(mu0, np.eye(2)*variance0, n0)\n",
    "df0 = DataFrame(data0, columns=['x1', 'x2'])\n",
    "df0['t'] = 0\n",
    "\n",
    "# Generates data with a correct label value of t=1\n",
    "n1, mu1, variance1 = 30, [18, 20], 44\n",
    "data1 = multivariate_normal(mu1, np.eye(2)*variance1, n1)\n",
    "df1 = DataFrame(data1, columns=['x1', 'x2'])\n",
    "df1['t'] = 1\n",
    "\n",
    "# Stored in the Pandas data frame\n",
    "df = pd.concat([df0, df1], ignore_index=True)"
   ]
  },
  {
   "cell_type": "code",
   "execution_count": 6,
   "metadata": {},
   "outputs": [
    {
     "data": {
      "text/html": [
       "<div>\n",
       "<style scoped>\n",
       "    .dataframe tbody tr th:only-of-type {\n",
       "        vertical-align: middle;\n",
       "    }\n",
       "\n",
       "    .dataframe tbody tr th {\n",
       "        vertical-align: top;\n",
       "    }\n",
       "\n",
       "    .dataframe thead th {\n",
       "        text-align: right;\n",
       "    }\n",
       "</style>\n",
       "<table border=\"1\" class=\"dataframe\">\n",
       "  <thead>\n",
       "    <tr style=\"text-align: right;\">\n",
       "      <th></th>\n",
       "      <th>x1</th>\n",
       "      <th>x2</th>\n",
       "      <th>t</th>\n",
       "    </tr>\n",
       "  </thead>\n",
       "  <tbody>\n",
       "    <tr>\n",
       "      <th>0</th>\n",
       "      <td>29.195801</td>\n",
       "      <td>4.480375</td>\n",
       "      <td>1</td>\n",
       "    </tr>\n",
       "    <tr>\n",
       "      <th>1</th>\n",
       "      <td>18.233707</td>\n",
       "      <td>10.490015</td>\n",
       "      <td>0</td>\n",
       "    </tr>\n",
       "    <tr>\n",
       "      <th>2</th>\n",
       "      <td>9.548994</td>\n",
       "      <td>10.179677</td>\n",
       "      <td>0</td>\n",
       "    </tr>\n",
       "    <tr>\n",
       "      <th>3</th>\n",
       "      <td>13.029101</td>\n",
       "      <td>14.030732</td>\n",
       "      <td>1</td>\n",
       "    </tr>\n",
       "    <tr>\n",
       "      <th>4</th>\n",
       "      <td>13.533072</td>\n",
       "      <td>25.942515</td>\n",
       "      <td>1</td>\n",
       "    </tr>\n",
       "    <tr>\n",
       "      <th>...</th>\n",
       "      <td>...</td>\n",
       "      <td>...</td>\n",
       "      <td>...</td>\n",
       "    </tr>\n",
       "    <tr>\n",
       "      <th>65</th>\n",
       "      <td>12.230591</td>\n",
       "      <td>15.211952</td>\n",
       "      <td>1</td>\n",
       "    </tr>\n",
       "    <tr>\n",
       "      <th>66</th>\n",
       "      <td>24.942118</td>\n",
       "      <td>21.560676</td>\n",
       "      <td>1</td>\n",
       "    </tr>\n",
       "    <tr>\n",
       "      <th>67</th>\n",
       "      <td>9.493323</td>\n",
       "      <td>16.527605</td>\n",
       "      <td>0</td>\n",
       "    </tr>\n",
       "    <tr>\n",
       "      <th>68</th>\n",
       "      <td>22.561556</td>\n",
       "      <td>23.866368</td>\n",
       "      <td>1</td>\n",
       "    </tr>\n",
       "    <tr>\n",
       "      <th>69</th>\n",
       "      <td>8.307201</td>\n",
       "      <td>33.063345</td>\n",
       "      <td>1</td>\n",
       "    </tr>\n",
       "  </tbody>\n",
       "</table>\n",
       "<p>70 rows × 3 columns</p>\n",
       "</div>"
      ],
      "text/plain": [
       "           x1         x2  t\n",
       "0   29.195801   4.480375  1\n",
       "1   18.233707  10.490015  0\n",
       "2    9.548994  10.179677  0\n",
       "3   13.029101  14.030732  1\n",
       "4   13.533072  25.942515  1\n",
       "..        ...        ... ..\n",
       "65  12.230591  15.211952  1\n",
       "66  24.942118  21.560676  1\n",
       "67   9.493323  16.527605  0\n",
       "68  22.561556  23.866368  1\n",
       "69   8.307201  33.063345  1\n",
       "\n",
       "[70 rows x 3 columns]"
      ]
     },
     "execution_count": 6,
     "metadata": {},
     "output_type": "execute_result"
    }
   ],
   "source": [
    "# Create training data\n",
    "train_set = df.reindex(permutation(df.index)).reset_index(drop=True)\n",
    "# Confirmation\n",
    "train_set"
   ]
  },
  {
   "cell_type": "code",
   "execution_count": 7,
   "metadata": {},
   "outputs": [
    {
     "data": {
      "text/plain": [
       "array([[29.19580119,  4.48037497],\n",
       "       [18.23370719, 10.49001493],\n",
       "       [ 9.54899375, 10.17967682],\n",
       "       [13.02910098, 14.03073202],\n",
       "       [13.5330719 , 25.94251532],\n",
       "       [27.803148  , 20.35728851],\n",
       "       [14.92129272, 20.97113781],\n",
       "       [ 9.40104129, 17.05631617],\n",
       "       [16.61651357,  6.93419389],\n",
       "       [21.61522736, 11.61192808],\n",
       "       [20.81316203, 13.5606034 ],\n",
       "       [13.18822779,  6.89553375],\n",
       "       [-0.71310736, 11.44290884],\n",
       "       [26.7588597 , 19.17758819],\n",
       "       [ 6.63458963, 15.30308361],\n",
       "       [17.35407957, 10.67926532],\n",
       "       [ 7.16466741, 24.34108057],\n",
       "       [17.34890636,  7.12693608],\n",
       "       [13.38240091, 20.34501635],\n",
       "       [ 8.7986429 , 17.95743244],\n",
       "       [17.57940096, 15.33456766],\n",
       "       [ 5.90914379, -0.48018636],\n",
       "       [26.13429021, 26.12797726],\n",
       "       [15.30450781, 18.39781032],\n",
       "       [19.2701948 , 16.5551176 ],\n",
       "       [ 7.8296035 , 13.73724851],\n",
       "       [ 3.43682788, -5.58133382],\n",
       "       [ 9.61663979, 14.60875134],\n",
       "       [22.21157017, 16.2319495 ],\n",
       "       [17.83407506, 19.34964796],\n",
       "       [21.45863529, 15.37746957],\n",
       "       [18.44228977, 24.48069877],\n",
       "       [13.63377328, 23.00267944],\n",
       "       [ 9.30841472, 12.89786783],\n",
       "       [12.2232959 , 17.60193045],\n",
       "       [ 0.37735946,  8.55397938],\n",
       "       [18.12744663, 22.7265548 ],\n",
       "       [11.46091825, 14.87302824],\n",
       "       [14.15085657,  1.85867621],\n",
       "       [18.50909642, 24.68594841],\n",
       "       [13.87134175, 21.64078677],\n",
       "       [16.60511338, 13.77713623],\n",
       "       [11.53275883,  9.92574494],\n",
       "       [ 5.29301743, 10.81435542],\n",
       "       [21.63091862, 14.56917918],\n",
       "       [ 2.24976487, 20.64940633],\n",
       "       [19.42279469,  8.78679789],\n",
       "       [15.6219415 , 28.74235825],\n",
       "       [18.98653314, 24.36723108],\n",
       "       [ 4.56119816, 14.58649944],\n",
       "       [13.65479658, 10.0906663 ],\n",
       "       [10.16826816,  2.14592768],\n",
       "       [ 0.54244965,  9.46789341],\n",
       "       [16.57866397,  9.59398011],\n",
       "       [10.67503582, 12.81301842],\n",
       "       [26.2000916 ,  4.62750964],\n",
       "       [ 8.83513195,  4.64600055],\n",
       "       [11.56531683,  7.57319474],\n",
       "       [13.58849813,  4.99698655],\n",
       "       [ 9.32581813,  7.08268296],\n",
       "       [ 6.68013934,  8.30903728],\n",
       "       [ 5.67018477, 13.05311311],\n",
       "       [14.13485077, 14.88910029],\n",
       "       [15.13971779, 26.78859254],\n",
       "       [11.78204192, 10.93396951],\n",
       "       [12.23059082, 15.21195194],\n",
       "       [24.942118  , 21.56067563],\n",
       "       [ 9.49332262, 16.52760537],\n",
       "       [22.56155635, 23.86636833],\n",
       "       [ 8.30720117, 33.06334533]])"
      ]
     },
     "execution_count": 7,
     "metadata": {},
     "output_type": "execute_result"
    }
   ],
   "source": [
    "# Storing the input data\n",
    "train_x = train_set[['x1', 'x2']].values\n",
    "# Confirmation\n",
    "train_x"
   ]
  },
  {
   "cell_type": "code",
   "execution_count": 8,
   "metadata": {},
   "outputs": [
    {
     "data": {
      "text/plain": [
       "array([1, 0, 0, 1, 1, 1, 1, 1, 0, 1, 1, 0, 0, 1, 0, 0, 1, 0, 1, 0, 0, 0,\n",
       "       1, 0, 1, 0, 0, 1, 1, 0, 0, 0, 1, 0, 1, 0, 1, 1, 0, 1, 1, 1, 0, 0,\n",
       "       1, 0, 0, 1, 1, 0, 0, 0, 0, 0, 0, 0, 0, 0, 0, 0, 0, 0, 0, 1, 0, 1,\n",
       "       1, 0, 1, 1])"
      ]
     },
     "execution_count": 8,
     "metadata": {},
     "output_type": "execute_result"
    }
   ],
   "source": [
    "# Storing the correct answer label\n",
    "train_t = train_set['t'].values\n",
    "# Confirmation\n",
    "train_t"
   ]
  },
  {
   "cell_type": "code",
   "execution_count": 9,
   "metadata": {},
   "outputs": [
    {
     "data": {
      "text/plain": [
       "<matplotlib.collections.PathCollection at 0x13e49b4e0>"
      ]
     },
     "execution_count": 9,
     "metadata": {},
     "output_type": "execute_result"
    },
    {
     "data": {
      "image/png": "[encoded data removed]",
      "text/plain": [
       "<Figure size 1080x1080 with 1 Axes>"
      ]
     },
     "metadata": {
      "needs_background": "light"
     },
     "output_type": "display_data"
    }
   ],
   "source": [
    "train_set0 = train_set[train_set['t']==0]\n",
    "train_set1 = train_set[train_set['t']==1]\n",
    "\n",
    "fig = plt.figure(figsize=(15, 15))\n",
    "subplot = fig.add_subplot(1, 1, 1)\n",
    "subplot.set_ylim([0, 30])\n",
    "subplot.set_xlim([0, 30])\n",
    "\n",
    "# Drawing training data\n",
    "subplot.scatter(train_set1.x1, train_set1.x2, marker='.', color='red')\n",
    "subplot.scatter(train_set0.x1, train_set0.x2, marker='.', color='blue')"
   ]
  },
  {
   "cell_type": "code",
   "execution_count": 10,
   "metadata": {},
   "outputs": [
    {
     "name": "stdout",
     "output_type": "stream",
     "text": [
      "Model: \"sequential\"\n",
      "_________________________________________________________________\n",
      "Layer (type)                 Output Shape              Param #   \n",
      "=================================================================\n",
      "logistic_regression (Dense)  (None, 1)                 3         \n",
      "=================================================================\n",
      "Total params: 3\n",
      "Trainable params: 3\n",
      "Non-trainable params: 0\n",
      "_________________________________________________________________\n"
     ]
    }
   ],
   "source": [
    "# A model to calculate the probability that the label is t=1\n",
    "model = models.Sequential()\n",
    "# Create a node of first-order function + sigmoid function\n",
    "model.add(layers.Dense(1, \n",
    "                                           activation='sigmoid', \n",
    "                                           input_shape=(2,), \n",
    "                                           name='logistic_regression'))\n",
    "model.summary()"
   ]
  },
  {
   "cell_type": "code",
   "execution_count": 11,
   "metadata": {},
   "outputs": [],
   "source": [
    "# The error function is Binary Cross Entropy\n",
    "model.compile(optimizer='adam',\n",
    "                         loss='binary_crossentropy',\n",
    "                         metrics=['acc'])"
   ]
  },
  {
   "cell_type": "code",
   "execution_count": 12,
   "metadata": {},
   "outputs": [
    {
     "name": "stdout",
     "output_type": "stream",
     "text": [
      "Train on 70 samples\n",
      "Epoch 1/10\n",
      "70/70 [==============================] - 0s 3ms/sample - loss: 12.1863 - acc: 0.4286\n",
      "Epoch 2/10\n",
      "70/70 [==============================] - 0s 39us/sample - loss: 12.1733 - acc: 0.4286\n",
      "Epoch 3/10\n",
      "70/70 [==============================] - 0s 26us/sample - loss: 12.1602 - acc: 0.4286\n",
      "Epoch 4/10\n",
      "70/70 [==============================] - 0s 24us/sample - loss: 12.1472 - acc: 0.4286\n",
      "Epoch 5/10\n",
      "70/70 [==============================] - 0s 24us/sample - loss: 12.1341 - acc: 0.4286\n",
      "Epoch 6/10\n",
      "70/70 [==============================] - 0s 24us/sample - loss: 12.1211 - acc: 0.4286\n",
      "Epoch 7/10\n",
      "70/70 [==============================] - 0s 29us/sample - loss: 12.1080 - acc: 0.4286\n",
      "Epoch 8/10\n",
      "70/70 [==============================] - 0s 23us/sample - loss: 12.0950 - acc: 0.4286\n",
      "Epoch 9/10\n",
      "70/70 [==============================] - 0s 24us/sample - loss: 12.0819 - acc: 0.4286\n",
      "Epoch 10/10\n",
      "70/70 [==============================] - 0s 32us/sample - loss: 12.0689 - acc: 0.4286\n"
     ]
    }
   ],
   "source": [
    "# 10 repetitions of learning\n",
    "history = model.fit(train_x, train_t, batch_size=len(train_x), epochs=10)"
   ]
  },
  {
   "cell_type": "code",
   "execution_count": 13,
   "metadata": {},
   "outputs": [],
   "source": [
    "# 5000 repetitions of learning (Not shown on screen)\n",
    "history = model.fit(train_x, train_t, batch_size=len(train_x), epochs=5000, verbose=0)"
   ]
  },
  {
   "cell_type": "code",
   "execution_count": 14,
   "metadata": {},
   "outputs": [
    {
     "data": {
      "text/plain": [
       "<matplotlib.axes._subplots.AxesSubplot at 0x13ecc1630>"
      ]
     },
     "execution_count": 14,
     "metadata": {},
     "output_type": "execute_result"
    },
    {
     "data": {
      "image/png": "[encoded data removed]",
      "text/plain": [
       "<Figure size 432x288 with 1 Axes>"
      ]
     },
     "metadata": {
      "needs_background": "light"
     },
     "output_type": "display_data"
    }
   ],
   "source": [
    "# Change in the percentage of correct answers\n",
    "DataFrame({'acc': history.history['acc']}).plot()"
   ]
  },
  {
   "cell_type": "code",
   "execution_count": 15,
   "metadata": {},
   "outputs": [
    {
     "data": {
      "text/plain": [
       "<matplotlib.axes._subplots.AxesSubplot at 0x13e7d9630>"
      ]
     },
     "execution_count": 15,
     "metadata": {},
     "output_type": "execute_result"
    },
    {
     "data": {
      "image/png": "[encoded data removed]",
      "text/plain": [
       "<Figure size 432x288 with 1 Axes>"
      ]
     },
     "metadata": {
      "needs_background": "light"
     },
     "output_type": "display_data"
    }
   ],
   "source": [
    "# Change in the　error function\n",
    "DataFrame({'loss': history.history['loss']}).plot()"
   ]
  },
  {
   "cell_type": "code",
   "execution_count": 16,
   "metadata": {},
   "outputs": [
    {
     "data": {
      "text/plain": [
       "[<matplotlib.lines.Line2D at 0x13ecf5fd0>]"
      ]
     },
     "execution_count": 16,
     "metadata": {},
     "output_type": "execute_result"
    },
    {
     "data": {
      "image/png": "[encoded data removed]",
      "text/plain": [
       "<Figure size 1080x1080 with 1 Axes>"
      ]
     },
     "metadata": {
      "needs_background": "light"
     },
     "output_type": "display_data"
    }
   ],
   "source": [
    "[[w1], [w2]], [b] = model.get_weights()\n",
    "\n",
    "train_set0 = train_set[train_set['t']==0]\n",
    "train_set1 = train_set[train_set['t']==1]\n",
    "\n",
    "fig = plt.figure(figsize=(15, 15))\n",
    "subplot = fig.add_subplot(1, 1, 1)\n",
    "subplot.set_ylim([0, 30])\n",
    "subplot.set_xlim([0, 30])\n",
    "\n",
    "# Drawing training data\n",
    "subplot.scatter(train_set1.x1, train_set1.x2, marker='.', color='red')\n",
    "subplot.scatter(train_set0.x1, train_set0.x2, marker='.', color='blue')\n",
    "\n",
    "xs = np.linspace(0, 30, 10)\n",
    "ys = - (w1*xs/w2 + b/w2)\n",
    "\n",
    "# Drawing a border\n",
    "subplot.plot(xs, ys, color='orange')"
   ]
  },
  {
   "cell_type": "code",
   "execution_count": null,
   "metadata": {},
   "outputs": [],
   "source": []
  }
 ],
 "metadata": {
  "kernelspec": {
   "display_name": "Python 3",
   "language": "python",
   "name": "python3"
  },
  "language_info": {
   "codemirror_mode": {
    "name": "ipython",
    "version": 3
   },
   "file_extension": ".py",
   "mimetype": "text/x-python",
   "name": "python",
   "nbconvert_exporter": "python",
   "pygments_lexer": "ipython3",
   "version": "3.6.9"
  }
 },
 "nbformat": 4,
 "nbformat_minor": 2
}
